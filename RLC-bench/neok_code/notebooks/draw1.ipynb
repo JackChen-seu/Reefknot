{
 "cells": [
  {
   "cell_type": "code",
   "execution_count": 2,
   "metadata": {},
   "outputs": [],
   "source": [
    "import matplotlib.pyplot as plt\n",
    "import numpy as np\n",
    "import json\n",
    "import torch\n",
    "import pandas as pd\n",
    "def read_jsonl(file):\n",
    "    with open(file, 'r') as f:\n",
    "        data=[json.loads(line) for line in f]\n",
    "        print(f'Length of data is {len(data)}')\n",
    "        return data\n",
    "def filter_and_replace(value):\n",
    "    value=value.lower()\n",
    "    if 'yes' in value:\n",
    "        return 'yes'\n",
    "    elif 'no' in value:\n",
    "        return 'no'\n",
    "    else:\n",
    "        return value\n",
    "\n",
    "def entropy(p_yes, p_no):\n",
    "    \"\"\"Calculate the entropy for a given probability.\"\"\"\n",
    "    if p_yes <= 0 or p_no <= 0:\n",
    "        return 0\n",
    "    p_yes = torch.tensor([p_yes], dtype=torch.float32)\n",
    "    p_no = torch.tensor([p_no], dtype=torch.float32)\n",
    "    entropy_value = -p_yes * torch.log2(p_yes) - p_no * torch.log2(p_no)\n",
    "    return entropy_value.item()\n",
    "\n",
    "\n"
   ]
  },
  {
   "cell_type": "markdown",
   "metadata": {},
   "source": [
    "## 读取数据"
   ]
  },
  {
   "cell_type": "code",
   "execution_count": 3,
   "metadata": {},
   "outputs": [
    {
     "name": "stdout",
     "output_type": "stream",
     "text": [
      "Length of data is 9000\n"
     ]
    }
   ],
   "source": [
    "# obj_data=read_jsonl('/home/ubuntu/hallu_team/junkai/Dataset/RLC-bench/answer/Object/Minigpt4/Object.jsonl')\n",
    "obj_data=read_jsonl('/home/ubuntu/junkai/RLC-bench/answer/Object/llava-v1.5/llava-v1.5-13b/Object.jsonl')\n",
    "# #\n",
    "# #\n",
    "obj_pd=pd.DataFrame(obj_data)\n",
    "\n",
    "# rel_data=read_jsonl('/home/ubuntu/hallu_team/junkai/Dataset/RLC-bench/answer/Relation/Minigpt4/Relation.jsonl')\n",
    "# /home/ubuntu/hallu_team/junkai/Dataset/RLC-bench/answer/Relation/llava-v1.5/llava-v1.5-7b/Relation.jsonl\n",
    "# rel_data=read_jsonl('/home/ubuntu/junkai/RLC-bench/test/dola_test/YesandNo_13b.jsonl')\n",
    "# \n",
    "# rel_pd=pd.DataFrame(rel_data)\n"
   ]
  },
  {
   "cell_type": "markdown",
   "metadata": {},
   "source": [
    "## 处理Object (POPE)数据"
   ]
  },
  {
   "cell_type": "code",
   "execution_count": 4,
   "metadata": {},
   "outputs": [
    {
     "name": "stdout",
     "output_type": "stream",
     "text": [
      "Length of wrong object case is 1421\n",
      "Length of right object case is 7579\n",
      "Length of equal object right is 1421\n",
      "Length of total is 9000\n"
     ]
    },
    {
     "data": {
      "text/html": [
       "<div>\n",
       "<style scoped>\n",
       "    .dataframe tbody tr th:only-of-type {\n",
       "        vertical-align: middle;\n",
       "    }\n",
       "\n",
       "    .dataframe tbody tr th {\n",
       "        vertical-align: top;\n",
       "    }\n",
       "\n",
       "    .dataframe thead th {\n",
       "        text-align: right;\n",
       "    }\n",
       "</style>\n",
       "<table border=\"1\" class=\"dataframe\">\n",
       "  <thead>\n",
       "    <tr style=\"text-align: right;\">\n",
       "      <th></th>\n",
       "      <th>image_id</th>\n",
       "      <th>query_prompt</th>\n",
       "      <th>response</th>\n",
       "      <th>label</th>\n",
       "      <th>mllm_name</th>\n",
       "      <th>type</th>\n",
       "      <th>yes_prob</th>\n",
       "      <th>no_prob</th>\n",
       "      <th>entropy</th>\n",
       "      <th>decision_prob</th>\n",
       "    </tr>\n",
       "  </thead>\n",
       "  <tbody>\n",
       "    <tr>\n",
       "      <th>0</th>\n",
       "      <td>COCO_val2014_000000310196</td>\n",
       "      <td>Is there a snowboard in the image?</td>\n",
       "      <td>yes</td>\n",
       "      <td>yes</td>\n",
       "      <td>llava-v1.5-13b</td>\n",
       "      <td>object-YesNo</td>\n",
       "      <td>0.682574</td>\n",
       "      <td>0.317426</td>\n",
       "      <td>0.901561</td>\n",
       "      <td>0.682574</td>\n",
       "    </tr>\n",
       "    <tr>\n",
       "      <th>1</th>\n",
       "      <td>COCO_val2014_000000310196</td>\n",
       "      <td>Is there a backpack in the image?</td>\n",
       "      <td>yes</td>\n",
       "      <td>no</td>\n",
       "      <td>llava-v1.5-13b</td>\n",
       "      <td>object-YesNo</td>\n",
       "      <td>0.763484</td>\n",
       "      <td>0.236516</td>\n",
       "      <td>0.789199</td>\n",
       "      <td>0.763484</td>\n",
       "    </tr>\n",
       "    <tr>\n",
       "      <th>2</th>\n",
       "      <td>COCO_val2014_000000310196</td>\n",
       "      <td>Is there a person in the image?</td>\n",
       "      <td>yes</td>\n",
       "      <td>yes</td>\n",
       "      <td>llava-v1.5-13b</td>\n",
       "      <td>object-YesNo</td>\n",
       "      <td>0.998755</td>\n",
       "      <td>0.001245</td>\n",
       "      <td>0.013807</td>\n",
       "      <td>0.998755</td>\n",
       "    </tr>\n",
       "    <tr>\n",
       "      <th>3</th>\n",
       "      <td>COCO_val2014_000000310196</td>\n",
       "      <td>Is there a car in the image?</td>\n",
       "      <td>no</td>\n",
       "      <td>no</td>\n",
       "      <td>llava-v1.5-13b</td>\n",
       "      <td>object-YesNo</td>\n",
       "      <td>0.020646</td>\n",
       "      <td>0.979354</td>\n",
       "      <td>0.145052</td>\n",
       "      <td>0.979354</td>\n",
       "    </tr>\n",
       "    <tr>\n",
       "      <th>4</th>\n",
       "      <td>COCO_val2014_000000310196</td>\n",
       "      <td>Is there a skis in the image?</td>\n",
       "      <td>yes</td>\n",
       "      <td>yes</td>\n",
       "      <td>llava-v1.5-13b</td>\n",
       "      <td>object-YesNo</td>\n",
       "      <td>0.929440</td>\n",
       "      <td>0.070560</td>\n",
       "      <td>0.368008</td>\n",
       "      <td>0.929440</td>\n",
       "    </tr>\n",
       "  </tbody>\n",
       "</table>\n",
       "</div>"
      ],
      "text/plain": [
       "                    image_id                        query_prompt response  \\\n",
       "0  COCO_val2014_000000310196  Is there a snowboard in the image?      yes   \n",
       "1  COCO_val2014_000000310196   Is there a backpack in the image?      yes   \n",
       "2  COCO_val2014_000000310196     Is there a person in the image?      yes   \n",
       "3  COCO_val2014_000000310196        Is there a car in the image?       no   \n",
       "4  COCO_val2014_000000310196       Is there a skis in the image?      yes   \n",
       "\n",
       "  label       mllm_name          type  yes_prob   no_prob   entropy  \\\n",
       "0   yes  llava-v1.5-13b  object-YesNo  0.682574  0.317426  0.901561   \n",
       "1    no  llava-v1.5-13b  object-YesNo  0.763484  0.236516  0.789199   \n",
       "2   yes  llava-v1.5-13b  object-YesNo  0.998755  0.001245  0.013807   \n",
       "3    no  llava-v1.5-13b  object-YesNo  0.020646  0.979354  0.145052   \n",
       "4   yes  llava-v1.5-13b  object-YesNo  0.929440  0.070560  0.368008   \n",
       "\n",
       "   decision_prob  \n",
       "0       0.682574  \n",
       "1       0.763484  \n",
       "2       0.998755  \n",
       "3       0.979354  \n",
       "4       0.929440  "
      ]
     },
     "execution_count": 4,
     "metadata": {},
     "output_type": "execute_result"
    }
   ],
   "source": [
    "obj_pd['entropy'] = obj_pd.apply(lambda row: entropy(row['yes_prob'], row['no_prob']), axis=1)\n",
    "obj_pd['decision_prob']= obj_pd[['yes_prob', 'no_prob']].max(axis=1)\n",
    "obj_pd['response']=obj_pd['response'].apply(filter_and_replace)\n",
    "\n",
    "obj_wrong=obj_pd[obj_pd['response']!=obj_pd['label']]\n",
    "obj_right=obj_pd[obj_pd['response']==obj_pd['label']]\n",
    "print(f'Length of wrong object case is {len(obj_wrong)}')\n",
    "print(f'Length of right object case is {len(obj_right)}')\n",
    "equal_obj_right = obj_right.sample(n=len(obj_wrong), random_state=1)\n",
    "\n",
    "print(f'Length of equal object right is {len(equal_obj_right)}')\n",
    "print(f'Length of total is {len(obj_pd)}')\n",
    "\n",
    "obj_pd.head()"
   ]
  },
  {
   "cell_type": "markdown",
   "metadata": {},
   "source": [
    "## Object幻觉 对错case的概率分布"
   ]
  },
  {
   "cell_type": "code",
   "execution_count": 6,
   "metadata": {},
   "outputs": [
    {
     "data": {
      "image/png": "[encoded data removed]",
      "text/plain": [
       "<Figure size 400x300 with 1 Axes>"
      ]
     },
     "metadata": {},
     "output_type": "display_data"
    }
   ],
   "source": [
    "plt.figure(figsize=(4, 3))\n",
    "\n",
    "\n",
    "# plt.hist(equal_obj_right['decision_prob'], bins=30, alpha=0.5, label='right case', color='red')\n",
    "plt.hist(obj_wrong['decision_prob'], bins=30, alpha=0.5, label='Hallucination case', color='blue')\n",
    "\n",
    "\n",
    "\n",
    "plt.xlabel('Probs')\n",
    "plt.ylabel('sample numbers')\n",
    "plt.title('Decision Confidence')\n",
    "\n",
    "plt.legend(loc='upper center')\n",
    "plt.grid(True)\n",
    "plt.tight_layout()\n",
    "plt.savefig('test0.pdf', dpi=300, bbox_inches='tight')\n",
    "plt.show()"
   ]
  },
  {
   "cell_type": "markdown",
   "metadata": {},
   "source": [
    "## 最终放在论文中的img 双图"
   ]
  },
  {
   "cell_type": "code",
   "execution_count": 7,
   "metadata": {},
   "outputs": [
    {
     "ename": "NameError",
     "evalue": "name 'equal_rel_right' is not defined",
     "output_type": "error",
     "traceback": [
      "\u001b[0;31m---------------------------------------------------------------------------\u001b[0m",
      "\u001b[0;31mNameError\u001b[0m                                 Traceback (most recent call last)",
      "Cell \u001b[0;32mIn[7], line 17\u001b[0m\n\u001b[1;32m     14\u001b[0m axs[\u001b[38;5;241m0\u001b[39m]\u001b[38;5;241m.\u001b[39mgrid(\u001b[38;5;28;01mTrue\u001b[39;00m)\n\u001b[1;32m     16\u001b[0m \u001b[38;5;66;03m# 第二张图\u001b[39;00m\n\u001b[0;32m---> 17\u001b[0m axs[\u001b[38;5;241m1\u001b[39m]\u001b[38;5;241m.\u001b[39mhist(\u001b[43mequal_rel_right\u001b[49m[\u001b[38;5;124m'\u001b[39m\u001b[38;5;124mdecision_prob\u001b[39m\u001b[38;5;124m'\u001b[39m], bins\u001b[38;5;241m=\u001b[39m\u001b[38;5;241m30\u001b[39m, alpha\u001b[38;5;241m=\u001b[39m\u001b[38;5;241m0.5\u001b[39m, label\u001b[38;5;241m=\u001b[39m\u001b[38;5;124m'\u001b[39m\u001b[38;5;124mRight case\u001b[39m\u001b[38;5;124m'\u001b[39m, color\u001b[38;5;241m=\u001b[39m\u001b[38;5;124m'\u001b[39m\u001b[38;5;124morange\u001b[39m\u001b[38;5;124m'\u001b[39m)\n\u001b[1;32m     18\u001b[0m axs[\u001b[38;5;241m1\u001b[39m]\u001b[38;5;241m.\u001b[39mhist(rel_wrong[\u001b[38;5;124m'\u001b[39m\u001b[38;5;124mdecision_prob\u001b[39m\u001b[38;5;124m'\u001b[39m], bins\u001b[38;5;241m=\u001b[39m\u001b[38;5;241m30\u001b[39m, alpha\u001b[38;5;241m=\u001b[39m\u001b[38;5;241m0.5\u001b[39m, label\u001b[38;5;241m=\u001b[39m\u001b[38;5;124m'\u001b[39m\u001b[38;5;124mHallucination case\u001b[39m\u001b[38;5;124m'\u001b[39m, color\u001b[38;5;241m=\u001b[39m\u001b[38;5;124m'\u001b[39m\u001b[38;5;124mpink\u001b[39m\u001b[38;5;124m'\u001b[39m)\n\u001b[1;32m     19\u001b[0m axs[\u001b[38;5;241m1\u001b[39m]\u001b[38;5;241m.\u001b[39mset_xlabel(\u001b[38;5;124m'\u001b[39m\u001b[38;5;124mProbs of RLC\u001b[39m\u001b[38;5;124m'\u001b[39m)\n",
      "\u001b[0;31mNameError\u001b[0m: name 'equal_rel_right' is not defined"
     ]
    },
    {
     "data": {
      "image/png": "[encoded data removed]",
      "text/plain": [
       "<Figure size 700x300 with 2 Axes>"
      ]
     },
     "metadata": {},
     "output_type": "display_data"
    }
   ],
   "source": [
    "import matplotlib.pyplot as plt\n",
    "\n",
    "# 创建一个2行1列的子图\n",
    "fig, axs = plt.subplots(1, 2, figsize=(7, 3))\n",
    "\n",
    "fig.suptitle('Decision Probabilities', fontsize=13)\n",
    "# 第一张图\n",
    "axs[0].hist(equal_obj_right['decision_prob'], bins=30, alpha=0.5, label='Right case', color='orange')\n",
    "axs[0].hist(obj_wrong['decision_prob'], bins=30, alpha=0.5, label='Hallucination case', color='pink')\n",
    "axs[0].set_xlabel('Probs of POPE')\n",
    "axs[0].set_ylabel('sample numbers')\n",
    "# axs[0].set_title('Decision Confidence')\n",
    "axs[0].legend(loc='upper center')\n",
    "axs[0].grid(True)\n",
    "\n",
    "# 第二张图\n",
    "axs[1].hist(equal_rel_right['decision_prob'], bins=30, alpha=0.5, label='Right case', color='orange')\n",
    "axs[1].hist(rel_wrong['decision_prob'], bins=30, alpha=0.5, label='Hallucination case', color='pink')\n",
    "axs[1].set_xlabel('Probs of RLC')\n",
    "# axs[1].set_ylabel('sample numbers')\n",
    "# axs[1].set_title('Probs of Right and Wrong Rel Hallucination')\n",
    "axs[1].legend(loc='upper right')\n",
    "axs[1].grid(True)\n",
    "\n",
    "# 调整布局\n",
    "plt.tight_layout()\n",
    "plt.subplots_adjust(top=0.85, wspace=0.2)#top 参数调整总标题距离图形的距离，值越小，距离越近  wspace 参数调整两个子图之间的水平间距\n",
    "# 保存图像\n",
    "plt.savefig('combined_plot.pdf', dpi=300, bbox_inches='tight')\n",
    "plt.show()"
   ]
  },
  {
   "cell_type": "markdown",
   "metadata": {},
   "source": [
    "## Object 物体幻觉对错的case的熵的分布"
   ]
  },
  {
   "cell_type": "code",
   "execution_count": 8,
   "metadata": {},
   "outputs": [
    {
     "data": {
      "image/png": "[encoded data removed]",
      "text/plain": [
       "<Figure size 400x300 with 1 Axes>"
      ]
     },
     "metadata": {},
     "output_type": "display_data"
    }
   ],
   "source": [
    "plt.figure(figsize=(4, 3))\n",
    "plt.hist(obj_wrong['entropy'], bins=30, alpha=0.7, label='false one', color='blue')\n",
    "plt.hist(equal_obj_right['entropy'], bins=30, alpha=0.8, label='right one', color='green')\n",
    "plt.xlabel('entropy')\n",
    "plt.ylabel('sample numbers')\n",
    "plt.title('entropy of right and wrong object same number')\n",
    "plt.legend(loc='upper center')\n",
    "plt.grid(True)\n",
    "plt.tight_layout()\n",
    "plt.savefig('test0.pdf', dpi=300, bbox_inches='tight')\n",
    "plt.show()"
   ]
  },
  {
   "cell_type": "code",
   "execution_count": 9,
   "metadata": {},
   "outputs": [
    {
     "data": {
      "text/html": [
       "<div>\n",
       "<style scoped>\n",
       "    .dataframe tbody tr th:only-of-type {\n",
       "        vertical-align: middle;\n",
       "    }\n",
       "\n",
       "    .dataframe tbody tr th {\n",
       "        vertical-align: top;\n",
       "    }\n",
       "\n",
       "    .dataframe thead th {\n",
       "        text-align: right;\n",
       "    }\n",
       "</style>\n",
       "<table border=\"1\" class=\"dataframe\">\n",
       "  <thead>\n",
       "    <tr style=\"text-align: right;\">\n",
       "      <th></th>\n",
       "      <th>image_id</th>\n",
       "      <th>query_prompt</th>\n",
       "      <th>response</th>\n",
       "      <th>label</th>\n",
       "      <th>mllm_name</th>\n",
       "      <th>type</th>\n",
       "      <th>yes_prob</th>\n",
       "      <th>no_prob</th>\n",
       "      <th>entropy</th>\n",
       "      <th>decision_prob</th>\n",
       "    </tr>\n",
       "  </thead>\n",
       "  <tbody>\n",
       "    <tr>\n",
       "      <th>1</th>\n",
       "      <td>COCO_val2014_000000310196</td>\n",
       "      <td>Is there a backpack in the image?</td>\n",
       "      <td>yes</td>\n",
       "      <td>no</td>\n",
       "      <td>llava-v1.5-13b</td>\n",
       "      <td>object-YesNo</td>\n",
       "      <td>0.763484</td>\n",
       "      <td>0.236516</td>\n",
       "      <td>0.789199</td>\n",
       "      <td>0.763484</td>\n",
       "    </tr>\n",
       "    <tr>\n",
       "      <th>7</th>\n",
       "      <td>COCO_val2014_000000210789</td>\n",
       "      <td>Is there a car in the image?</td>\n",
       "      <td>yes</td>\n",
       "      <td>no</td>\n",
       "      <td>llava-v1.5-13b</td>\n",
       "      <td>object-YesNo</td>\n",
       "      <td>0.997783</td>\n",
       "      <td>0.002217</td>\n",
       "      <td>0.022743</td>\n",
       "      <td>0.997783</td>\n",
       "    </tr>\n",
       "    <tr>\n",
       "      <th>11</th>\n",
       "      <td>COCO_val2014_000000210789</td>\n",
       "      <td>Is there a handbag in the image?</td>\n",
       "      <td>yes</td>\n",
       "      <td>no</td>\n",
       "      <td>llava-v1.5-13b</td>\n",
       "      <td>object-YesNo</td>\n",
       "      <td>0.957912</td>\n",
       "      <td>0.042088</td>\n",
       "      <td>0.251784</td>\n",
       "      <td>0.957912</td>\n",
       "    </tr>\n",
       "    <tr>\n",
       "      <th>15</th>\n",
       "      <td>COCO_val2014_000000429109</td>\n",
       "      <td>Is there a motorcycle in the image?</td>\n",
       "      <td>yes</td>\n",
       "      <td>no</td>\n",
       "      <td>llava-v1.5-13b</td>\n",
       "      <td>object-YesNo</td>\n",
       "      <td>0.936285</td>\n",
       "      <td>0.063715</td>\n",
       "      <td>0.342019</td>\n",
       "      <td>0.936285</td>\n",
       "    </tr>\n",
       "    <tr>\n",
       "      <th>17</th>\n",
       "      <td>COCO_val2014_000000429109</td>\n",
       "      <td>Is there a truck in the image?</td>\n",
       "      <td>yes</td>\n",
       "      <td>no</td>\n",
       "      <td>llava-v1.5-13b</td>\n",
       "      <td>object-YesNo</td>\n",
       "      <td>0.845942</td>\n",
       "      <td>0.154058</td>\n",
       "      <td>0.619902</td>\n",
       "      <td>0.845942</td>\n",
       "    </tr>\n",
       "  </tbody>\n",
       "</table>\n",
       "</div>"
      ],
      "text/plain": [
       "                     image_id                         query_prompt response  \\\n",
       "1   COCO_val2014_000000310196    Is there a backpack in the image?      yes   \n",
       "7   COCO_val2014_000000210789         Is there a car in the image?      yes   \n",
       "11  COCO_val2014_000000210789     Is there a handbag in the image?      yes   \n",
       "15  COCO_val2014_000000429109  Is there a motorcycle in the image?      yes   \n",
       "17  COCO_val2014_000000429109       Is there a truck in the image?      yes   \n",
       "\n",
       "   label       mllm_name          type  yes_prob   no_prob   entropy  \\\n",
       "1     no  llava-v1.5-13b  object-YesNo  0.763484  0.236516  0.789199   \n",
       "7     no  llava-v1.5-13b  object-YesNo  0.997783  0.002217  0.022743   \n",
       "11    no  llava-v1.5-13b  object-YesNo  0.957912  0.042088  0.251784   \n",
       "15    no  llava-v1.5-13b  object-YesNo  0.936285  0.063715  0.342019   \n",
       "17    no  llava-v1.5-13b  object-YesNo  0.845942  0.154058  0.619902   \n",
       "\n",
       "    decision_prob  \n",
       "1        0.763484  \n",
       "7        0.997783  \n",
       "11       0.957912  \n",
       "15       0.936285  \n",
       "17       0.845942  "
      ]
     },
     "execution_count": 9,
     "metadata": {},
     "output_type": "execute_result"
    }
   ],
   "source": [
    "obj_wrong.head()"
   ]
  },
  {
   "cell_type": "code",
   "execution_count": 15,
   "metadata": {},
   "outputs": [
    {
     "name": "stdout",
     "output_type": "stream",
     "text": [
      "labe=yes的熵:\n",
      "0.6926926657419514\n",
      "labe=no的熵:\n",
      "0.698419374747964\n"
     ]
    }
   ],
   "source": [
    "obj_wrong_l_yes_p_no=obj_wrong[obj_wrong['label']=='yes']\n",
    "obj_wrong_l_no_p_yes=obj_wrong[obj_wrong['label']=='no']\n",
    "print('labe=yes的熵:')\n",
    "print(obj_wrong_l_yes_p_no['entropy'].mean())\n",
    "print('labe=no的熵:')\n",
    "print(obj_wrong_l_no_p_yes['entropy'].mean())\n",
    "# print(f'Length of wrong object case is {len(obj_wrong_l_yes_p_no)}')\n"
   ]
  },
  {
   "cell_type": "code",
   "execution_count": 16,
   "metadata": {},
   "outputs": [
    {
     "data": {
      "text/html": [
       "<div>\n",
       "<style scoped>\n",
       "    .dataframe tbody tr th:only-of-type {\n",
       "        vertical-align: middle;\n",
       "    }\n",
       "\n",
       "    .dataframe tbody tr th {\n",
       "        vertical-align: top;\n",
       "    }\n",
       "\n",
       "    .dataframe thead th {\n",
       "        text-align: right;\n",
       "    }\n",
       "</style>\n",
       "<table border=\"1\" class=\"dataframe\">\n",
       "  <thead>\n",
       "    <tr style=\"text-align: right;\">\n",
       "      <th></th>\n",
       "      <th>image_id</th>\n",
       "      <th>query_prompt</th>\n",
       "      <th>response</th>\n",
       "      <th>label</th>\n",
       "      <th>mllm_name</th>\n",
       "      <th>type</th>\n",
       "      <th>yes_prob</th>\n",
       "      <th>no_prob</th>\n",
       "      <th>entropy</th>\n",
       "      <th>decision_prob</th>\n",
       "    </tr>\n",
       "  </thead>\n",
       "  <tbody>\n",
       "    <tr>\n",
       "      <th>1</th>\n",
       "      <td>COCO_val2014_000000310196</td>\n",
       "      <td>Is there a backpack in the image?</td>\n",
       "      <td>yes</td>\n",
       "      <td>no</td>\n",
       "      <td>llava-v1.5-13b</td>\n",
       "      <td>object-YesNo</td>\n",
       "      <td>0.763484</td>\n",
       "      <td>0.236516</td>\n",
       "      <td>0.789199</td>\n",
       "      <td>0.763484</td>\n",
       "    </tr>\n",
       "    <tr>\n",
       "      <th>7</th>\n",
       "      <td>COCO_val2014_000000210789</td>\n",
       "      <td>Is there a car in the image?</td>\n",
       "      <td>yes</td>\n",
       "      <td>no</td>\n",
       "      <td>llava-v1.5-13b</td>\n",
       "      <td>object-YesNo</td>\n",
       "      <td>0.997783</td>\n",
       "      <td>0.002217</td>\n",
       "      <td>0.022743</td>\n",
       "      <td>0.997783</td>\n",
       "    </tr>\n",
       "    <tr>\n",
       "      <th>11</th>\n",
       "      <td>COCO_val2014_000000210789</td>\n",
       "      <td>Is there a handbag in the image?</td>\n",
       "      <td>yes</td>\n",
       "      <td>no</td>\n",
       "      <td>llava-v1.5-13b</td>\n",
       "      <td>object-YesNo</td>\n",
       "      <td>0.957912</td>\n",
       "      <td>0.042088</td>\n",
       "      <td>0.251784</td>\n",
       "      <td>0.957912</td>\n",
       "    </tr>\n",
       "    <tr>\n",
       "      <th>15</th>\n",
       "      <td>COCO_val2014_000000429109</td>\n",
       "      <td>Is there a motorcycle in the image?</td>\n",
       "      <td>yes</td>\n",
       "      <td>no</td>\n",
       "      <td>llava-v1.5-13b</td>\n",
       "      <td>object-YesNo</td>\n",
       "      <td>0.936285</td>\n",
       "      <td>0.063715</td>\n",
       "      <td>0.342019</td>\n",
       "      <td>0.936285</td>\n",
       "    </tr>\n",
       "    <tr>\n",
       "      <th>17</th>\n",
       "      <td>COCO_val2014_000000429109</td>\n",
       "      <td>Is there a truck in the image?</td>\n",
       "      <td>yes</td>\n",
       "      <td>no</td>\n",
       "      <td>llava-v1.5-13b</td>\n",
       "      <td>object-YesNo</td>\n",
       "      <td>0.845942</td>\n",
       "      <td>0.154058</td>\n",
       "      <td>0.619902</td>\n",
       "      <td>0.845942</td>\n",
       "    </tr>\n",
       "    <tr>\n",
       "      <th>...</th>\n",
       "      <td>...</td>\n",
       "      <td>...</td>\n",
       "      <td>...</td>\n",
       "      <td>...</td>\n",
       "      <td>...</td>\n",
       "      <td>...</td>\n",
       "      <td>...</td>\n",
       "      <td>...</td>\n",
       "      <td>...</td>\n",
       "      <td>...</td>\n",
       "    </tr>\n",
       "    <tr>\n",
       "      <th>8915</th>\n",
       "      <td>COCO_val2014_000000190788</td>\n",
       "      <td>Is there a tie in the image?</td>\n",
       "      <td>yes</td>\n",
       "      <td>no</td>\n",
       "      <td>llava-v1.5-13b</td>\n",
       "      <td>object-YesNo</td>\n",
       "      <td>0.535098</td>\n",
       "      <td>0.464902</td>\n",
       "      <td>0.996443</td>\n",
       "      <td>0.535098</td>\n",
       "    </tr>\n",
       "    <tr>\n",
       "      <th>8967</th>\n",
       "      <td>COCO_val2014_000000122962</td>\n",
       "      <td>Is there a bottle in the image?</td>\n",
       "      <td>yes</td>\n",
       "      <td>no</td>\n",
       "      <td>llava-v1.5-13b</td>\n",
       "      <td>object-YesNo</td>\n",
       "      <td>0.974435</td>\n",
       "      <td>0.025565</td>\n",
       "      <td>0.171639</td>\n",
       "      <td>0.974435</td>\n",
       "    </tr>\n",
       "    <tr>\n",
       "      <th>8983</th>\n",
       "      <td>COCO_val2014_000000121959</td>\n",
       "      <td>Is there a refrigerator in the image?</td>\n",
       "      <td>yes</td>\n",
       "      <td>no</td>\n",
       "      <td>llava-v1.5-13b</td>\n",
       "      <td>object-YesNo</td>\n",
       "      <td>0.718594</td>\n",
       "      <td>0.281406</td>\n",
       "      <td>0.857359</td>\n",
       "      <td>0.718594</td>\n",
       "    </tr>\n",
       "    <tr>\n",
       "      <th>8987</th>\n",
       "      <td>COCO_val2014_000000121959</td>\n",
       "      <td>Is there a kite in the image?</td>\n",
       "      <td>yes</td>\n",
       "      <td>no</td>\n",
       "      <td>llava-v1.5-13b</td>\n",
       "      <td>object-YesNo</td>\n",
       "      <td>0.782663</td>\n",
       "      <td>0.217338</td>\n",
       "      <td>0.755276</td>\n",
       "      <td>0.782663</td>\n",
       "    </tr>\n",
       "    <tr>\n",
       "      <th>8995</th>\n",
       "      <td>COCO_val2014_000000277289</td>\n",
       "      <td>Is there a tie in the image?</td>\n",
       "      <td>yes</td>\n",
       "      <td>no</td>\n",
       "      <td>llava-v1.5-13b</td>\n",
       "      <td>object-YesNo</td>\n",
       "      <td>0.893309</td>\n",
       "      <td>0.106691</td>\n",
       "      <td>0.489852</td>\n",
       "      <td>0.893309</td>\n",
       "    </tr>\n",
       "  </tbody>\n",
       "</table>\n",
       "<p>1151 rows × 10 columns</p>\n",
       "</div>"
      ],
      "text/plain": [
       "                       image_id                           query_prompt  \\\n",
       "1     COCO_val2014_000000310196      Is there a backpack in the image?   \n",
       "7     COCO_val2014_000000210789           Is there a car in the image?   \n",
       "11    COCO_val2014_000000210789       Is there a handbag in the image?   \n",
       "15    COCO_val2014_000000429109    Is there a motorcycle in the image?   \n",
       "17    COCO_val2014_000000429109         Is there a truck in the image?   \n",
       "...                         ...                                    ...   \n",
       "8915  COCO_val2014_000000190788           Is there a tie in the image?   \n",
       "8967  COCO_val2014_000000122962        Is there a bottle in the image?   \n",
       "8983  COCO_val2014_000000121959  Is there a refrigerator in the image?   \n",
       "8987  COCO_val2014_000000121959          Is there a kite in the image?   \n",
       "8995  COCO_val2014_000000277289           Is there a tie in the image?   \n",
       "\n",
       "     response label       mllm_name          type  yes_prob   no_prob  \\\n",
       "1         yes    no  llava-v1.5-13b  object-YesNo  0.763484  0.236516   \n",
       "7         yes    no  llava-v1.5-13b  object-YesNo  0.997783  0.002217   \n",
       "11        yes    no  llava-v1.5-13b  object-YesNo  0.957912  0.042088   \n",
       "15        yes    no  llava-v1.5-13b  object-YesNo  0.936285  0.063715   \n",
       "17        yes    no  llava-v1.5-13b  object-YesNo  0.845942  0.154058   \n",
       "...       ...   ...             ...           ...       ...       ...   \n",
       "8915      yes    no  llava-v1.5-13b  object-YesNo  0.535098  0.464902   \n",
       "8967      yes    no  llava-v1.5-13b  object-YesNo  0.974435  0.025565   \n",
       "8983      yes    no  llava-v1.5-13b  object-YesNo  0.718594  0.281406   \n",
       "8987      yes    no  llava-v1.5-13b  object-YesNo  0.782663  0.217338   \n",
       "8995      yes    no  llava-v1.5-13b  object-YesNo  0.893309  0.106691   \n",
       "\n",
       "       entropy  decision_prob  \n",
       "1     0.789199       0.763484  \n",
       "7     0.022743       0.997783  \n",
       "11    0.251784       0.957912  \n",
       "15    0.342019       0.936285  \n",
       "17    0.619902       0.845942  \n",
       "...        ...            ...  \n",
       "8915  0.996443       0.535098  \n",
       "8967  0.171639       0.974435  \n",
       "8983  0.857359       0.718594  \n",
       "8987  0.755276       0.782663  \n",
       "8995  0.489852       0.893309  \n",
       "\n",
       "[1151 rows x 10 columns]"
      ]
     },
     "execution_count": 16,
     "metadata": {},
     "output_type": "execute_result"
    }
   ],
   "source": [
    "obj_wrong_l_no_p_yes"
   ]
  },
  {
   "cell_type": "markdown",
   "metadata": {},
   "source": [
    "## Object绘制折线图"
   ]
  },
  {
   "cell_type": "code",
   "execution_count": 45,
   "metadata": {},
   "outputs": [
    {
     "data": {
      "image/png": "[encoded data removed]",
      "text/plain": [
       "<Figure size 500x300 with 1 Axes>"
      ]
     },
     "metadata": {},
     "output_type": "display_data"
    }
   ],
   "source": [
    "import numpy as np\n",
    "import pandas as pd\n",
    "import matplotlib.pyplot as plt\n",
    "\n",
    "\n",
    "# 自动计算 entropy 属性的范围\n",
    "min_entropy = min(obj_wrong['entropy'].min(), equal_obj_right['entropy'].min())\n",
    "max_entropy = max(obj_wrong['entropy'].max(), equal_obj_right['entropy'].max())\n",
    "\n",
    "# 定义区间，步长为 0.05\n",
    "bins = np.arange(min_entropy, max_entropy + 0.05, 0.05)\n",
    "labels = bins[:-1] + 0.05\n",
    "# 计算每个区间内的样本数量\n",
    "obj_wrong_binned = pd.cut(obj_wrong['entropy'], bins=bins,labels=labels,include_lowest=True).value_counts().sort_index()\n",
    "equal_obj_right_binned = pd.cut(equal_obj_right['entropy'], bins=bins,labels=labels,include_lowest=True).value_counts().sort_index()\n",
    "\n",
    "# 绘制折线图\n",
    "plt.figure(figsize=(5, 3))\n",
    "plt.plot(obj_wrong_binned.index, obj_wrong_binned.values, marker='.', markersize=5, label='false one', color='blue')\n",
    "plt.plot(equal_obj_right_binned.index, equal_obj_right_binned.values, marker='.', markersize=2,label='right one', color='green')\n",
    "\n",
    "plt.xlabel('entropy')\n",
    "plt.ylabel('sample numbers')\n",
    "plt.title('Entropy of right and wrong objects in equal intervals')\n",
    "plt.legend(loc='upper center')\n",
    "# plt.grid(True)\n",
    "plt.tight_layout()\n",
    "plt.savefig('test1.pdf', dpi=300, bbox_inches='tight')\n",
    "plt.show()"
   ]
  },
  {
   "cell_type": "markdown",
   "metadata": {},
   "source": [
    "## object绘制plotly图"
   ]
  },
  {
   "cell_type": "code",
   "execution_count": null,
   "metadata": {},
   "outputs": [],
   "source": [
    "import numpy as np\n",
    "import pandas as pd\n",
    "import plotly.graph_objects as go\n",
    "import plotly.io as pio\n",
    "\n",
    "\n",
    "\n",
    "# 自动计算 entropy 属性的范围\n",
    "min_entropy = min(obj_wrong['entropy'].min(), equal_obj_right['entropy'].min())\n",
    "max_entropy = max(obj_wrong['entropy'].max(), equal_obj_right['entropy'].max())\n",
    "\n",
    "# 定义区间，步长为 0.05\n",
    "bins = np.arange(min_entropy, max_entropy + 0.05, 0.05)\n",
    "labels = bins[:-1] + 0.05\n",
    "# 计算每个区间内的样本数量\n",
    "obj_wrong_binned = pd.cut(obj_wrong['entropy'], bins=bins, labels=labels, include_lowest=True).value_counts().sort_index()\n",
    "equal_obj_right_binned = pd.cut(equal_obj_right['entropy'], bins=bins, labels=labels, include_lowest=True).value_counts().sort_index()\n",
    "\n",
    "# 使用 Plotly 绘制折线图\n",
    "fig = go.Figure()\n",
    "\n",
    "fig.add_trace(go.Scatter(\n",
    "    x=obj_wrong_binned.index.astype(str),\n",
    "    y=obj_wrong_binned.values,\n",
    "    mode='lines+markers',\n",
    "    name='false one',\n",
    "    marker=dict(size=5),\n",
    "    line=dict(color='blue')\n",
    "))\n",
    "\n",
    "fig.add_trace(go.Scatter(\n",
    "    x=equal_obj_right_binned.index.astype(str),\n",
    "    y=equal_obj_right_binned.values,\n",
    "    mode='lines+markers',\n",
    "    name='right one',\n",
    "    marker=dict(size=5),\n",
    "    line=dict(color='green')\n",
    "))\n",
    "\n",
    "# 更新布局\n",
    "fig.update_layout(\n",
    "    title='Entropy of right and wrong objects in equal intervals',\n",
    "    xaxis_title='entropy',\n",
    "    yaxis_title='sample numbers',\n",
    "    legend=dict(\n",
    "        title='Legend',\n",
    "        x=0.5,\n",
    "        y=1,\n",
    "        traceorder='normal',\n",
    "        font=dict(size=12),\n",
    "        bgcolor='LightSteelBlue',\n",
    "        bordercolor='Black',\n",
    "        borderwidth=2\n",
    "    ),\n",
    "    template='plotly_white',\n",
    "    autosize=False,\n",
    "    width=700,\n",
    "    height=500,\n",
    "    margin=dict(\n",
    "        l=50,  # left margin\n",
    "        r=50,  # right margin\n",
    "        b=50,  # bottom margin\n",
    "        t=50   # top margin\n",
    "    )\n",
    ")\n",
    "\n",
    "# 保存为 PDF\n",
    "# pio.write_image(fig, 'test1.pdf')\n",
    "\n",
    "# 显示图表\n",
    "# fig.show()"
   ]
  },
  {
   "cell_type": "markdown",
   "metadata": {},
   "source": [
    "# 关系数据"
   ]
  },
  {
   "cell_type": "markdown",
   "metadata": {},
   "source": [
    "## 处理关系数据"
   ]
  },
  {
   "cell_type": "code",
   "execution_count": 3,
   "metadata": {},
   "outputs": [
    {
     "data": {
      "text/plain": [
       "image_id                                                    1592267\n",
       "query_prompt      Is the bus driver on bus in this photo? Please...\n",
       "response                                                        Yes\n",
       "label                                                           yes\n",
       "mllm_name                                            llava-v1.5-13b\n",
       "type                                                         Yes/No\n",
       "yes_prob                                                   0.872263\n",
       "no_prob                                                     0.12764\n",
       "yes_layer_prob    {'0': 3.212690353393555e-05, '1': 3.1948089599...\n",
       "no_layer_prob     {'0': 3.1888484954833984e-05, '1': 2.902746200...\n",
       "Name: 0, dtype: object"
      ]
     },
     "execution_count": 3,
     "metadata": {},
     "output_type": "execute_result"
    }
   ],
   "source": [
    "rel_pd.iloc[0]"
   ]
  },
  {
   "cell_type": "code",
   "execution_count": 4,
   "metadata": {},
   "outputs": [
    {
     "name": "stdout",
     "output_type": "stream",
     "text": [
      "Length of wrong relation case is 4064\n",
      "关系的总case为 9740\n",
      "关系中 正确case的数量为 5676\n",
      "Length of equal rel_right is 4064\n"
     ]
    },
    {
     "data": {
      "text/html": [
       "<div>\n",
       "<style scoped>\n",
       "    .dataframe tbody tr th:only-of-type {\n",
       "        vertical-align: middle;\n",
       "    }\n",
       "\n",
       "    .dataframe tbody tr th {\n",
       "        vertical-align: top;\n",
       "    }\n",
       "\n",
       "    .dataframe thead th {\n",
       "        text-align: right;\n",
       "    }\n",
       "</style>\n",
       "<table border=\"1\" class=\"dataframe\">\n",
       "  <thead>\n",
       "    <tr style=\"text-align: right;\">\n",
       "      <th></th>\n",
       "      <th>image_id</th>\n",
       "      <th>query_prompt</th>\n",
       "      <th>response</th>\n",
       "      <th>label</th>\n",
       "      <th>mllm_name</th>\n",
       "      <th>type</th>\n",
       "      <th>yes_prob</th>\n",
       "      <th>no_prob</th>\n",
       "      <th>yes_layer_prob</th>\n",
       "      <th>no_layer_prob</th>\n",
       "      <th>entropy</th>\n",
       "      <th>decision_prob</th>\n",
       "    </tr>\n",
       "  </thead>\n",
       "  <tbody>\n",
       "    <tr>\n",
       "      <th>0</th>\n",
       "      <td>1592267</td>\n",
       "      <td>Is the bus driver on bus in this photo? Please...</td>\n",
       "      <td>yes</td>\n",
       "      <td>yes</td>\n",
       "      <td>llava-v1.5-13b</td>\n",
       "      <td>Yes/No</td>\n",
       "      <td>0.872263</td>\n",
       "      <td>0.127640</td>\n",
       "      <td>{'0': 3.212690353393555e-05, '1': 3.1948089599...</td>\n",
       "      <td>{'0': 3.1888484954833984e-05, '1': 2.902746200...</td>\n",
       "      <td>0.551051</td>\n",
       "      <td>0.872263</td>\n",
       "    </tr>\n",
       "    <tr>\n",
       "      <th>1</th>\n",
       "      <td>1592267</td>\n",
       "      <td>Is the bus driver between bus in this photo? p...</td>\n",
       "      <td>yes</td>\n",
       "      <td>no</td>\n",
       "      <td>llava-v1.5-13b</td>\n",
       "      <td>Yes/No</td>\n",
       "      <td>0.715257</td>\n",
       "      <td>0.284510</td>\n",
       "      <td>{'0': 3.212690353393555e-05, '1': 3.1828880310...</td>\n",
       "      <td>{'0': 3.1888484954833984e-05, '1': 2.902746200...</td>\n",
       "      <td>0.861747</td>\n",
       "      <td>0.715257</td>\n",
       "    </tr>\n",
       "    <tr>\n",
       "      <th>2</th>\n",
       "      <td>2370275</td>\n",
       "      <td>Are the sandwich on plate in this photo? Pleas...</td>\n",
       "      <td>yes</td>\n",
       "      <td>yes</td>\n",
       "      <td>llava-v1.5-13b</td>\n",
       "      <td>Yes/No</td>\n",
       "      <td>0.969270</td>\n",
       "      <td>0.030674</td>\n",
       "      <td>{'0': 3.212690353393555e-05, '1': 3.2484531402...</td>\n",
       "      <td>{'0': 3.1888484954833984e-05, '1': 2.938508987...</td>\n",
       "      <td>0.197840</td>\n",
       "      <td>0.969270</td>\n",
       "    </tr>\n",
       "    <tr>\n",
       "      <th>3</th>\n",
       "      <td>2370275</td>\n",
       "      <td>Is the sandwich covers plate in this photo? pl...</td>\n",
       "      <td>yes</td>\n",
       "      <td>no</td>\n",
       "      <td>llava-v1.5-13b</td>\n",
       "      <td>Yes/No</td>\n",
       "      <td>0.733791</td>\n",
       "      <td>0.265761</td>\n",
       "      <td>{'0': 3.212690353393555e-05, '1': 3.2365322113...</td>\n",
       "      <td>{'0': 3.1888484954833984e-05, '1': 2.932548522...</td>\n",
       "      <td>0.835763</td>\n",
       "      <td>0.733791</td>\n",
       "    </tr>\n",
       "    <tr>\n",
       "      <th>4</th>\n",
       "      <td>2340467</td>\n",
       "      <td>Is the banner on building in this photo? Pleas...</td>\n",
       "      <td>yes</td>\n",
       "      <td>yes</td>\n",
       "      <td>llava-v1.5-13b</td>\n",
       "      <td>Yes/No</td>\n",
       "      <td>0.933386</td>\n",
       "      <td>0.066566</td>\n",
       "      <td>{'0': 3.212690353393555e-05, '1': 3.2067298889...</td>\n",
       "      <td>{'0': 3.1888484954833984e-05, '1': 2.908706665...</td>\n",
       "      <td>0.353040</td>\n",
       "      <td>0.933386</td>\n",
       "    </tr>\n",
       "  </tbody>\n",
       "</table>\n",
       "</div>"
      ],
      "text/plain": [
       "  image_id                                       query_prompt response label  \\\n",
       "0  1592267  Is the bus driver on bus in this photo? Please...      yes   yes   \n",
       "1  1592267  Is the bus driver between bus in this photo? p...      yes    no   \n",
       "2  2370275  Are the sandwich on plate in this photo? Pleas...      yes   yes   \n",
       "3  2370275  Is the sandwich covers plate in this photo? pl...      yes    no   \n",
       "4  2340467  Is the banner on building in this photo? Pleas...      yes   yes   \n",
       "\n",
       "        mllm_name    type  yes_prob   no_prob  \\\n",
       "0  llava-v1.5-13b  Yes/No  0.872263  0.127640   \n",
       "1  llava-v1.5-13b  Yes/No  0.715257  0.284510   \n",
       "2  llava-v1.5-13b  Yes/No  0.969270  0.030674   \n",
       "3  llava-v1.5-13b  Yes/No  0.733791  0.265761   \n",
       "4  llava-v1.5-13b  Yes/No  0.933386  0.066566   \n",
       "\n",
       "                                      yes_layer_prob  \\\n",
       "0  {'0': 3.212690353393555e-05, '1': 3.1948089599...   \n",
       "1  {'0': 3.212690353393555e-05, '1': 3.1828880310...   \n",
       "2  {'0': 3.212690353393555e-05, '1': 3.2484531402...   \n",
       "3  {'0': 3.212690353393555e-05, '1': 3.2365322113...   \n",
       "4  {'0': 3.212690353393555e-05, '1': 3.2067298889...   \n",
       "\n",
       "                                       no_layer_prob   entropy  decision_prob  \n",
       "0  {'0': 3.1888484954833984e-05, '1': 2.902746200...  0.551051       0.872263  \n",
       "1  {'0': 3.1888484954833984e-05, '1': 2.902746200...  0.861747       0.715257  \n",
       "2  {'0': 3.1888484954833984e-05, '1': 2.938508987...  0.197840       0.969270  \n",
       "3  {'0': 3.1888484954833984e-05, '1': 2.932548522...  0.835763       0.733791  \n",
       "4  {'0': 3.1888484954833984e-05, '1': 2.908706665...  0.353040       0.933386  "
      ]
     },
     "execution_count": 4,
     "metadata": {},
     "output_type": "execute_result"
    }
   ],
   "source": [
    "rel_pd['entropy'] = rel_pd.apply(lambda row: entropy(row['yes_prob'], row['no_prob']), axis=1)\n",
    "rel_pd['decision_prob']= rel_pd[['yes_prob', 'no_prob']].max(axis=1)\n",
    "rel_pd['response']=rel_pd['response'].apply(filter_and_replace)\n",
    "rel_right=rel_pd[rel_pd['response']==rel_pd['label']]\n",
    "rel_wrong=rel_pd[rel_pd['response']!=rel_pd['label']]\n",
    "print(f'Length of wrong relation case is {len(rel_wrong)}')\n",
    "print(f'关系的总case为 {len(rel_pd)}')\n",
    "print(f'关系中 正确case的数量为 {len(rel_right)}')\n",
    "\n",
    "equal_rel_right = rel_right.sample(n=len(rel_wrong), random_state=1)\n",
    "print(f'Length of equal rel_right is {len(equal_rel_right)}')\n",
    "rel_pd.head()"
   ]
  },
  {
   "cell_type": "markdown",
   "metadata": {},
   "source": [
    "## 关系概率分布图"
   ]
  },
  {
   "cell_type": "code",
   "execution_count": 5,
   "metadata": {},
   "outputs": [
    {
     "data": {
      "image/png": "[encoded data removed]",
      "text/plain": [
       "<Figure size 400x300 with 1 Axes>"
      ]
     },
     "metadata": {},
     "output_type": "display_data"
    }
   ],
   "source": [
    "plt.figure(figsize=(4, 3))\n",
    "\n",
    "\n",
    "plt.hist(equal_rel_right['decision_prob'], bins=30, alpha=0.5, label='right one', color='blue')\n",
    "plt.hist(rel_wrong['decision_prob'], bins=30, alpha=0.2, label='false one', color='red')\n",
    "\n",
    "\n",
    "\n",
    "plt.xlabel('Probs')\n",
    "plt.ylabel('sample numbers')\n",
    "plt.title('probs of right and wrong rel Hallucination')\n",
    "\n",
    "plt.legend(loc='upper right')\n",
    "plt.grid(True)\n",
    "plt.tight_layout()\n",
    "plt.savefig('test0.pdf', dpi=300, bbox_inches='tight')\n",
    "plt.show()"
   ]
  },
  {
   "cell_type": "markdown",
   "metadata": {},
   "source": [
    "## 关系幻觉熵分布图"
   ]
  },
  {
   "cell_type": "code",
   "execution_count": 6,
   "metadata": {},
   "outputs": [
    {
     "data": {
      "image/png": "[encoded data removed]",
      "text/plain": [
       "<Figure size 400x300 with 1 Axes>"
      ]
     },
     "metadata": {},
     "output_type": "display_data"
    }
   ],
   "source": [
    "plt.figure(figsize=(4, 3))\n",
    "plt.hist(rel_wrong['entropy'], bins=30, alpha=0.7, label='false one', color='blue')\n",
    "plt.hist(equal_rel_right['entropy'], bins=30, alpha=0.8, label='right one', color='green')\n",
    "plt.xlabel('entropy')\n",
    "plt.ylabel('sample numbers')\n",
    "plt.title('entropy of right and wrong relation same number')\n",
    "plt.legend(loc='upper center')\n",
    "plt.grid(True)\n",
    "plt.tight_layout()\n",
    "plt.savefig('test0.pdf', dpi=300, bbox_inches='tight')\n",
    "plt.show()"
   ]
  },
  {
   "cell_type": "markdown",
   "metadata": {},
   "source": []
  },
  {
   "cell_type": "code",
   "execution_count": 11,
   "metadata": {},
   "outputs": [
    {
     "name": "stdout",
     "output_type": "stream",
     "text": [
      "entropy>0.9 wrong num= 1638\n",
      "entropy>0.9 right num= 1620\n"
     ]
    }
   ],
   "source": [
    "lena = len(rel_wrong[rel_wrong['entropy']>0.9])\n",
    "lenb = len(rel_right[rel_right['entropy']>0.9])\n",
    "print(f'entropy>0.9 wrong num= {lena}')\n",
    "print(f'entropy>0.9 right num= {lenb}')"
   ]
  },
  {
   "cell_type": "code",
   "execution_count": 12,
   "metadata": {},
   "outputs": [
    {
     "data": {
      "text/plain": [
       "count    9740.000000\n",
       "mean        0.715435\n",
       "std         0.259021\n",
       "min         0.012561\n",
       "25%         0.531921\n",
       "50%         0.794080\n",
       "75%         0.942342\n",
       "max         1.000456\n",
       "Name: entropy, dtype: float64"
      ]
     },
     "execution_count": 12,
     "metadata": {},
     "output_type": "execute_result"
    }
   ],
   "source": [
    "rel_pd['entropy'].describe()"
   ]
  },
  {
   "cell_type": "code",
   "execution_count": 16,
   "metadata": {},
   "outputs": [
    {
     "data": {
      "text/plain": [
       "image_id                                                    2355819\n",
       "query_prompt      Is the women teaching ground in this photo? pl...\n",
       "response                                                         no\n",
       "label                                                            no\n",
       "mllm_name                                            llava-v1.5-13b\n",
       "type                                                         Yes/No\n",
       "yes_prob                                                   0.495532\n",
       "no_prob                                                    0.503336\n",
       "yes_layer_prob    {'0': 3.212690353393555e-05, '1': 3.1650066375...\n",
       "no_layer_prob     {'0': 3.1888484954833984e-05, '1': 2.866983413...\n",
       "entropy                                                    1.000456\n",
       "decision_prob                                              0.503336\n",
       "Name: 7137, dtype: object"
      ]
     },
     "execution_count": 16,
     "metadata": {},
     "output_type": "execute_result"
    }
   ],
   "source": [
    "# rel_pd[rel_pd['entropy']==1.000456]\n",
    "rel_pd.loc[rel_pd['entropy'].idxmax()]"
   ]
  },
  {
   "cell_type": "code",
   "execution_count": 18,
   "metadata": {},
   "outputs": [
    {
     "data": {
      "text/html": [
       "<div>\n",
       "<style scoped>\n",
       "    .dataframe tbody tr th:only-of-type {\n",
       "        vertical-align: middle;\n",
       "    }\n",
       "\n",
       "    .dataframe tbody tr th {\n",
       "        vertical-align: top;\n",
       "    }\n",
       "\n",
       "    .dataframe thead th {\n",
       "        text-align: right;\n",
       "    }\n",
       "</style>\n",
       "<table border=\"1\" class=\"dataframe\">\n",
       "  <thead>\n",
       "    <tr style=\"text-align: right;\">\n",
       "      <th></th>\n",
       "      <th>image_id</th>\n",
       "      <th>query_prompt</th>\n",
       "      <th>response</th>\n",
       "      <th>label</th>\n",
       "      <th>mllm_name</th>\n",
       "      <th>type</th>\n",
       "      <th>yes_prob</th>\n",
       "      <th>no_prob</th>\n",
       "      <th>yes_layer_prob</th>\n",
       "      <th>no_layer_prob</th>\n",
       "      <th>entropy</th>\n",
       "      <th>decision_prob</th>\n",
       "    </tr>\n",
       "  </thead>\n",
       "  <tbody>\n",
       "    <tr>\n",
       "      <th>7137</th>\n",
       "      <td>2355819</td>\n",
       "      <td>Is the women teaching ground in this photo? pl...</td>\n",
       "      <td>no</td>\n",
       "      <td>no</td>\n",
       "      <td>llava-v1.5-13b</td>\n",
       "      <td>Yes/No</td>\n",
       "      <td>0.495532</td>\n",
       "      <td>0.503336</td>\n",
       "      <td>{'0': 3.212690353393555e-05, '1': 3.1650066375...</td>\n",
       "      <td>{'0': 3.1888484954833984e-05, '1': 2.866983413...</td>\n",
       "      <td>1.000456</td>\n",
       "      <td>0.503336</td>\n",
       "    </tr>\n",
       "    <tr>\n",
       "      <th>5833</th>\n",
       "      <td>2389744</td>\n",
       "      <td>Is the wallpaper spelling room in this photo? ...</td>\n",
       "      <td>no</td>\n",
       "      <td>no</td>\n",
       "      <td>llava-v1.5-13b</td>\n",
       "      <td>Yes/No</td>\n",
       "      <td>0.491497</td>\n",
       "      <td>0.507099</td>\n",
       "      <td>{'0': 3.212690353393555e-05, '1': 3.1888484954...</td>\n",
       "      <td>{'0': 3.1888484954833984e-05, '1': 2.896785736...</td>\n",
       "      <td>1.000444</td>\n",
       "      <td>0.507099</td>\n",
       "    </tr>\n",
       "    <tr>\n",
       "      <th>5501</th>\n",
       "      <td>2380918</td>\n",
       "      <td>Is the man smoking signal in this photo? pleas...</td>\n",
       "      <td>no</td>\n",
       "      <td>no</td>\n",
       "      <td>llava-v1.5-13b</td>\n",
       "      <td>Yes/No</td>\n",
       "      <td>0.495631</td>\n",
       "      <td>0.503436</td>\n",
       "      <td>{'0': 3.212690353393555e-05, '1': 3.1709671020...</td>\n",
       "      <td>{'0': 3.1888484954833984e-05, '1': 2.878904342...</td>\n",
       "      <td>1.000369</td>\n",
       "      <td>0.503436</td>\n",
       "    </tr>\n",
       "    <tr>\n",
       "      <th>4757</th>\n",
       "      <td>2316929</td>\n",
       "      <td>Is the sun gripping player in this photo? plea...</td>\n",
       "      <td>no</td>\n",
       "      <td>no</td>\n",
       "      <td>llava-v1.5-13b</td>\n",
       "      <td>Yes/No</td>\n",
       "      <td>0.495647</td>\n",
       "      <td>0.503452</td>\n",
       "      <td>{'0': 3.212690353393555e-05, '1': 3.1828880310...</td>\n",
       "      <td>{'0': 3.1888484954833984e-05, '1': 2.890825271...</td>\n",
       "      <td>1.000354</td>\n",
       "      <td>0.503452</td>\n",
       "    </tr>\n",
       "    <tr>\n",
       "      <th>4271</th>\n",
       "      <td>2355858</td>\n",
       "      <td>Is the goat at goat in this photo? please answ...</td>\n",
       "      <td>yes</td>\n",
       "      <td>no</td>\n",
       "      <td>llava-v1.5-13b</td>\n",
       "      <td>Yes/No</td>\n",
       "      <td>0.510859</td>\n",
       "      <td>0.487465</td>\n",
       "      <td>{'0': 3.212690353393555e-05, '1': 3.1590461730...</td>\n",
       "      <td>{'0': 3.1888484954833984e-05, '1': 2.878904342...</td>\n",
       "      <td>1.000344</td>\n",
       "      <td>0.510859</td>\n",
       "    </tr>\n",
       "  </tbody>\n",
       "</table>\n",
       "</div>"
      ],
      "text/plain": [
       "     image_id                                       query_prompt response  \\\n",
       "7137  2355819  Is the women teaching ground in this photo? pl...       no   \n",
       "5833  2389744  Is the wallpaper spelling room in this photo? ...       no   \n",
       "5501  2380918  Is the man smoking signal in this photo? pleas...       no   \n",
       "4757  2316929  Is the sun gripping player in this photo? plea...       no   \n",
       "4271  2355858  Is the goat at goat in this photo? please answ...      yes   \n",
       "\n",
       "     label       mllm_name    type  yes_prob   no_prob  \\\n",
       "7137    no  llava-v1.5-13b  Yes/No  0.495532  0.503336   \n",
       "5833    no  llava-v1.5-13b  Yes/No  0.491497  0.507099   \n",
       "5501    no  llava-v1.5-13b  Yes/No  0.495631  0.503436   \n",
       "4757    no  llava-v1.5-13b  Yes/No  0.495647  0.503452   \n",
       "4271    no  llava-v1.5-13b  Yes/No  0.510859  0.487465   \n",
       "\n",
       "                                         yes_layer_prob  \\\n",
       "7137  {'0': 3.212690353393555e-05, '1': 3.1650066375...   \n",
       "5833  {'0': 3.212690353393555e-05, '1': 3.1888484954...   \n",
       "5501  {'0': 3.212690353393555e-05, '1': 3.1709671020...   \n",
       "4757  {'0': 3.212690353393555e-05, '1': 3.1828880310...   \n",
       "4271  {'0': 3.212690353393555e-05, '1': 3.1590461730...   \n",
       "\n",
       "                                          no_layer_prob   entropy  \\\n",
       "7137  {'0': 3.1888484954833984e-05, '1': 2.866983413...  1.000456   \n",
       "5833  {'0': 3.1888484954833984e-05, '1': 2.896785736...  1.000444   \n",
       "5501  {'0': 3.1888484954833984e-05, '1': 2.878904342...  1.000369   \n",
       "4757  {'0': 3.1888484954833984e-05, '1': 2.890825271...  1.000354   \n",
       "4271  {'0': 3.1888484954833984e-05, '1': 2.878904342...  1.000344   \n",
       "\n",
       "      decision_prob  \n",
       "7137       0.503336  \n",
       "5833       0.507099  \n",
       "5501       0.503436  \n",
       "4757       0.503452  \n",
       "4271       0.510859  "
      ]
     },
     "execution_count": 18,
     "metadata": {},
     "output_type": "execute_result"
    }
   ],
   "source": [
    "sorted_df = rel_pd.sort_values(by='entropy', ascending=False)\n",
    "sorted_df.head()"
   ]
  },
  {
   "cell_type": "code",
   "execution_count": 28,
   "metadata": {},
   "outputs": [
    {
     "data": {
      "text/plain": [
       "3670    Is the sidewalk for pedestrian in this photo? ...\n",
       "2159    Is the smoke alongside train in this photo? pl...\n",
       "1400    Is the horse among sage brush in this photo? P...\n",
       "3272    Is the building beyond palm tree in this photo...\n",
       "1402    Is the giraffe among grass in this photo? Plea...\n",
       "                              ...                        \n",
       "4126    Are the bubbles within waves in this photo? Pl...\n",
       "9186    Is the man gripping racket in this photo? Plea...\n",
       "2551    Is the train alongside station in this photo? ...\n",
       "1030    Is the body of snow in this photo? Please answ...\n",
       "7632    Is the pole supporting clock in this photo? Pl...\n",
       "Name: query_prompt, Length: 200, dtype: object"
      ]
     },
     "execution_count": 28,
     "metadata": {},
     "output_type": "execute_result"
    }
   ],
   "source": [
    "sorted_df.iloc[-1200:-1000]['query_prompt']"
   ]
  },
  {
   "cell_type": "code",
   "execution_count": 25,
   "metadata": {},
   "outputs": [
    {
     "data": {
      "text/plain": [
       "image_id                                                    2355819\n",
       "query_prompt      Is the women waiting ground in this photo? Ple...\n",
       "response                                                        yes\n",
       "label                                                           yes\n",
       "mllm_name                                            llava-v1.5-13b\n",
       "type                                                         Yes/No\n",
       "yes_prob                                                   0.685619\n",
       "no_prob                                                    0.313899\n",
       "yes_layer_prob    {'0': 3.212690353393555e-05, '1': 3.1769275665...\n",
       "no_layer_prob     {'0': 3.1888484954833984e-05, '1': 2.872943878...\n",
       "entropy                                                    0.898057\n",
       "decision_prob                                              0.685619\n",
       "Name: 7136, dtype: object"
      ]
     },
     "execution_count": 25,
     "metadata": {},
     "output_type": "execute_result"
    }
   ],
   "source": [
    "rel_pd.iloc[7136]"
   ]
  },
  {
   "cell_type": "markdown",
   "metadata": {},
   "source": [
    "## 关系两个图一起绘制"
   ]
  },
  {
   "cell_type": "code",
   "execution_count": 52,
   "metadata": {},
   "outputs": [
    {
     "data": {
      "image/png": "[encoded data removed]",
      "text/plain": [
       "<Figure size 800x300 with 2 Axes>"
      ]
     },
     "metadata": {},
     "output_type": "display_data"
    }
   ],
   "source": [
    "# 创建包含两个子图的图形\n",
    "fig, axes = plt.subplots(1, 2, figsize=(8,3))\n",
    "\n",
    "# 绘制第一个直方图\n",
    "axes[0].hist(equal_rel_right['decision_prob'], bins=30, alpha=0.5, label='right one', color='red')\n",
    "axes[0].hist(rel_wrong['decision_prob'], bins=30, alpha=0.5, label='false one', color='blue')\n",
    "axes[0].set_xlabel('Probs')\n",
    "axes[0].set_ylabel('Sample numbers')\n",
    "axes[0].set_title('Probs of right and wrong rel Hallucination')\n",
    "axes[0].legend(loc='upper right')\n",
    "axes[0].grid(True)\n",
    "\n",
    "# 绘制第二个直方图\n",
    "axes[1].hist(rel_wrong['entropy'], bins=30, alpha=0.7, label='false one', color='blue')\n",
    "axes[1].hist(equal_rel_right['entropy'], bins=30, alpha=0.8, label='right one', color='green')\n",
    "axes[1].set_xlabel('Entropy')\n",
    "axes[1].set_ylabel('Sample numbers')\n",
    "axes[1].set_title('Entropy of right and wrong relation same number')\n",
    "axes[1].legend(loc='upper center')\n",
    "axes[1].grid(True)\n",
    "\n",
    "# 调整布局并保存图形\n",
    "plt.tight_layout()\n",
    "plt.savefig('test0.pdf', dpi=300, bbox_inches='tight')\n",
    "plt.show()"
   ]
  }
 ],
 "metadata": {
  "kernelspec": {
   "display_name": "llava_cjk",
   "language": "python",
   "name": "python3"
  },
  "language_info": {
   "codemirror_mode": {
    "name": "ipython",
    "version": 3
   },
   "file_extension": ".py",
   "mimetype": "text/x-python",
   "name": "python",
   "nbconvert_exporter": "python",
   "pygments_lexer": "ipython3",
   "version": "3.9.19"
  }
 },
 "nbformat": 4,
 "nbformat_minor": 2
}
