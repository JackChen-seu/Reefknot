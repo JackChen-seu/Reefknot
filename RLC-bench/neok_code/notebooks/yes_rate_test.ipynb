{
 "cells": [
  {
   "cell_type": "code",
   "execution_count": 7,
   "metadata": {},
   "outputs": [
    {
     "name": "stdout",
     "output_type": "stream",
     "text": [
      "5440\n"
     ]
    }
   ],
   "source": [
    "import pandas as pd\n",
    "import json\n",
    "# from utils import read_jsonl, write_jsonl\n",
    "def read_jsonl(file):\n",
    "    with open(file, 'r') as f:\n",
    "        return [json.loads(line) for line in f]\n",
    "data=read_jsonl('/data2/zkn/neok_code/MiniGPT-4/Testfiles/answers_benchmark-3-YesandNo-cognition-prob_softmax.jsonl')\n",
    " # /data2/zkn/neok_code/MiniGPT-4/Testfiles/answers_benchmark-3-YesandNo-cognition-prob_softmax.jsonl\n",
    "#/data2/zkn/cjk_code/LLaVA/llava_bench/answers_benchmark-3-YesandNo-percetion-prob-normalized_output.jsonl\n",
    "# /data2/zkn/neok_code/MiniGPT-4/Testfiles/answers_benchmark-3-YesandNo-cognition-prob.jsonl\n",
    "print(len(data))"
   ]
  },
  {
   "cell_type": "code",
   "execution_count": 8,
   "metadata": {},
   "outputs": [],
   "source": [
    "df=pd.DataFrame(data)"
   ]
  },
  {
   "cell_type": "markdown",
   "metadata": {},
   "source": []
  },
  {
   "cell_type": "code",
   "execution_count": null,
   "metadata": {},
   "outputs": [],
   "source": []
  },
  {
   "cell_type": "code",
   "execution_count": 22,
   "metadata": {},
   "outputs": [
    {
     "name": "stdout",
     "output_type": "stream",
     "text": [
      "0.9709506034851074\n"
     ]
    }
   ],
   "source": [
    "import torch\n",
    "\n",
    "def entropy(p_yes, p_no):\n",
    "    \"\"\"Calculate the entropy for a given probability.\"\"\"\n",
    "    if p_yes <= 0 or p_no <= 0:\n",
    "        return 0\n",
    "    p_yes = torch.tensor([p_yes], dtype=torch.float32)\n",
    "    p_no = torch.tensor([p_no], dtype=torch.float32)\n",
    "    entropy_value = -p_yes * torch.log2(p_yes) - p_no * torch.log2(p_no)\n",
    "    return entropy_value.item()\n",
    "\n",
    "# 示例\n",
    "p_yes = 0.6\n",
    "p_no = 0.4\n",
    "print(entropy(p_yes, p_no))\n",
    "\n",
    " # 输出: 1.0\n",
    "#p_yes = 0.99 p_no = 0.01 时，熵为0.08\n",
    "#p_yes = 0.5 p_no = 0.5 时，熵为1.0"
   ]
  },
  {
   "cell_type": "code",
   "execution_count": 21,
   "metadata": {},
   "outputs": [
    {
     "data": {
      "text/plain": [
       "image_id                                                      2315986\n",
       "query_prompt        Is the man smoking head in this photo? please ...\n",
       "response                                                           No\n",
       "label                                                              no\n",
       "mllm_name                                              llava-v1.5-13b\n",
       "type                                                           Yes/No\n",
       "Prob_yes                                                         0.47\n",
       "Prob_no                                                          0.53\n",
       "first_token_prob                                              0.53083\n",
       "relation_type                                               percetion\n",
       "entropy                                              [tensor(0.9974)]\n",
       "Name: 3, dtype: object"
      ]
     },
     "execution_count": 21,
     "metadata": {},
     "output_type": "execute_result"
    }
   ],
   "source": [
    "df.iloc[3]"
   ]
  },
  {
   "cell_type": "code",
   "execution_count": 23,
   "metadata": {},
   "outputs": [],
   "source": [
    "df['entropy'] = df.apply(lambda row: entropy(row['Prob_yes'], row['Prob_no']), axis=1)"
   ]
  },
  {
   "cell_type": "code",
   "execution_count": 24,
   "metadata": {},
   "outputs": [],
   "source": [
    "yes_data=df[df['label']=='yes'] #挑选出label为yes的\n",
    "no_data=df[df['label']=='no']"
   ]
  },
  {
   "cell_type": "markdown",
   "metadata": {},
   "source": [
    "### 分别绘制子图"
   ]
  },
  {
   "cell_type": "code",
   "execution_count": null,
   "metadata": {},
   "outputs": [],
   "source": [
    "import pandas as pd\n",
    "import numpy as np\n",
    "import matplotlib.pyplot as plt\n",
    "\n",
    "plt.figure(figsize=(5, 3))\n",
    "plt.hist(yes_data['first_token_prob'], bins=20, color='skyblue', edgecolor='black')\n",
    "plt.title('Distribution of First Token Probability of YES')\n",
    "plt.xlabel('First Token Probability')\n",
    "plt.ylabel('Frequency')\n",
    "plt.grid(True)\n",
    "plt.show()"
   ]
  },
  {
   "cell_type": "code",
   "execution_count": null,
   "metadata": {},
   "outputs": [],
   "source": [
    "import pandas as pd\n",
    "import numpy as np\n",
    "import matplotlib.pyplot as plt\n",
    "\n",
    "plt.figure(figsize=(5, 3))\n",
    "plt.hist(no_data['first_token_prob'], bins=20, color='skyblue', edgecolor='black')\n",
    "plt.title('Distribution of First Token Probability of No' )\n",
    "plt.xlabel('First Token Probability')\n",
    "plt.ylabel('Frequency')\n",
    "plt.grid(True)\n",
    "plt.show()"
   ]
  },
  {
   "cell_type": "code",
   "execution_count": null,
   "metadata": {},
   "outputs": [],
   "source": [
    "import pandas as pd\n",
    "import numpy as np\n",
    "import matplotlib.pyplot as plt\n",
    "\n",
    "plt.figure(figsize=(5, 3))\n",
    "plt.hist(no_data['Prob_yes'], bins=20, color='blue', edgecolor='black')\n",
    "plt.title('Distribution of Second Token(yes) Probability of no_label' )\n",
    "plt.xlabel('First Token Probability')\n",
    "plt.ylabel('Frequency')\n",
    "plt.grid(True)\n",
    "plt.show()"
   ]
  },
  {
   "cell_type": "code",
   "execution_count": null,
   "metadata": {},
   "outputs": [],
   "source": [
    "import pandas as pd\n",
    "import numpy as np\n",
    "import matplotlib.pyplot as plt\n",
    "\n",
    "plt.figure(figsize=(5, 3))\n",
    "plt.hist(yes_data['Prob_no'], bins=20, color='blue', edgecolor='black')\n",
    "plt.title('Distribution of second Token(no) Probability of yes_label' )\n",
    "plt.xlabel('First Token Probability')\n",
    "plt.ylabel('Frequency')\n",
    "plt.grid(True)\n",
    "plt.show()"
   ]
  },
  {
   "cell_type": "markdown",
   "metadata": {},
   "source": [
    "### 两张子图一起绘制"
   ]
  },
  {
   "cell_type": "code",
   "execution_count": null,
   "metadata": {},
   "outputs": [],
   "source": [
    "import pandas as pd\n",
    "import numpy as np\n",
    "import matplotlib.pyplot as plt\n",
    "\n",
    "# 创建一个新的图形对象和两个子图\n",
    "fig, (ax1, ax2) = plt.subplots(1, 2, figsize=(10, 3))\n",
    "\n",
    "# 为 YES 数据绘制直方图\n",
    "ax1.hist(yes_data['first_token_prob'], bins=20, color='skyblue', edgecolor='black')\n",
    "ax1.set_title('Distribution of First Token Probability of YES')\n",
    "ax1.set_xlabel('First Token Probability')\n",
    "ax1.set_ylabel('Frequency')\n",
    "ax1.grid(True)\n",
    "\n",
    "# 为 NO 数据绘制直方图\n",
    "ax2.hist(no_data['first_token_prob'], bins=20, color='skyblue', edgecolor='black')\n",
    "ax2.set_title('Distribution of First Token Probability of NO')\n",
    "ax2.set_xlabel('First Token Probability')\n",
    "ax2.set_ylabel('Frequency')\n",
    "ax2.grid(True)\n",
    "\n",
    "# 调整子图布局\n",
    "plt.tight_layout()\n",
    "\n",
    "# 显示图形\n",
    "plt.show()"
   ]
  },
  {
   "cell_type": "markdown",
   "metadata": {},
   "source": [
    "### 四张子图一起绘制"
   ]
  },
  {
   "cell_type": "code",
   "execution_count": null,
   "metadata": {},
   "outputs": [],
   "source": [
    "import pandas as pd\n",
    "import numpy as np\n",
    "import matplotlib.pyplot as plt\n",
    "\n",
    "# 创建一个包含四个子图的图形对象\n",
    "fig, ((ax1, ax2), (ax3, ax4)) = plt.subplots(2, 2, figsize=(10, 6))\n",
    "\n",
    "# 第一个子图：lable=yes 情况下第一个词token的分布\n",
    "ax1.hist(yes_data['first_token_prob'], bins=20, color='skyblue', edgecolor='black')\n",
    "ax1.set_title('Distribution of label=YES predict=YES')\n",
    "ax1.set_xlabel('First Token Probability')\n",
    "ax1.set_ylabel('Frequency')\n",
    "ax1.grid(True)\n",
    "\n",
    "# 第二个子图：lable=no 情况下 第一个词token的分布\n",
    "ax2.hist(no_data['first_token_prob'], bins=20, color='skyblue', edgecolor='black')\n",
    "ax2.set_title('Distribution of label=NO ')\n",
    "ax2.set_xlabel('First Token Probability')\n",
    "ax2.set_ylabel('Frequency')\n",
    "ax2.grid(True)\n",
    "\n",
    "# 第三个子图：label=no 预测为yes的概率值\n",
    "ax3.hist(no_data['Prob_yes'], bins=20, color='blue', edgecolor='black')\n",
    "ax3.set_title('Distribution of label=NO, prob of yes')\n",
    "ax3.set_xlabel('Yes')\n",
    "ax3.set_ylabel('Frequency')\n",
    "ax3.grid(True)\n",
    "\n",
    "# 第四个子图：label=yes 预测为no的概率值\n",
    "ax4.hist(yes_data['Prob_no'], bins=20, color='blue', edgecolor='black')\n",
    "ax4.set_title('Distribution of label=YES, prob of no')\n",
    "ax4.set_xlabel('No')\n",
    "ax4.set_ylabel('Frequency')\n",
    "ax4.grid(True)\n",
    "\n",
    "# 调整子图布局以防止重叠\n",
    "plt.tight_layout()\n",
    "\n",
    "# 显示图形\n",
    "plt.show()"
   ]
  },
  {
   "cell_type": "code",
   "execution_count": null,
   "metadata": {},
   "outputs": [],
   "source": [
    "fig, (ax1,ax2)= plt.subplots(1, 2, figsize=(10, 3))\n",
    "\n",
    "ax1.hist(yes_data['entropy'], bins=20, color='skyblue', edgecolor='black')\n",
    "ax1.set_title('Distribution of Entropy of YES')\n",
    "ax1.set_xlabel('Entropy')\n",
    "ax1.set_ylabel('Frequency')\n",
    "ax1.grid(True)\n",
    "\n",
    "ax2.hist(no_data['entropy'], bins=20, color='skyblue', edgecolor='black')\n",
    "ax2.set_title('Distribution of Entropy of NO')\n",
    "ax2.set_xlabel('Entropy')\n",
    "ax2.set_ylabel('Frequency')\n",
    "ax2.grid(True)\n",
    "\n",
    "plt.tight_layout()\n",
    "plt.show()\n"
   ]
  },
  {
   "cell_type": "code",
   "execution_count": 27,
   "metadata": {},
   "outputs": [
    {
     "data": {
      "text/plain": [
       "count    2720.000000\n",
       "mean        0.675388\n",
       "std         0.272935\n",
       "min         0.000000\n",
       "25%         0.468996\n",
       "50%         0.741483\n",
       "75%         0.914926\n",
       "max         1.000781\n",
       "Name: entropy, dtype: float64"
      ]
     },
     "execution_count": 27,
     "metadata": {},
     "output_type": "execute_result"
    }
   ],
   "source": [
    "desc_yes = yes_data['entropy'].describe()   \n",
    "desc_yes"
   ]
  },
  {
   "cell_type": "code",
   "execution_count": 28,
   "metadata": {},
   "outputs": [
    {
     "data": {
      "text/plain": [
       "count    2720.000000\n",
       "mean        0.837198\n",
       "std         0.196670\n",
       "min         0.000000\n",
       "25%         0.760168\n",
       "50%         0.914926\n",
       "75%         0.981454\n",
       "max         1.003699\n",
       "Name: entropy, dtype: float64"
      ]
     },
     "execution_count": 28,
     "metadata": {},
     "output_type": "execute_result"
    }
   ],
   "source": [
    "desc_no = no_data['entropy'].describe()\n",
    "desc_no"
   ]
  },
  {
   "cell_type": "code",
   "execution_count": 29,
   "metadata": {},
   "outputs": [
    {
     "data": {
      "text/plain": [
       "count    5440.000000\n",
       "mean        0.731755\n",
       "std         0.141325\n",
       "min         0.499600\n",
       "25%         0.610946\n",
       "50%         0.721538\n",
       "75%         0.849625\n",
       "max         0.997290\n",
       "Name: first_token_prob, dtype: float64"
      ]
     },
     "execution_count": 29,
     "metadata": {},
     "output_type": "execute_result"
    }
   ],
   "source": [
    "df['first_token_prob'].describe()"
   ]
  },
  {
   "cell_type": "code",
   "execution_count": null,
   "metadata": {},
   "outputs": [],
   "source": []
  }
 ],
 "metadata": {
  "kernelspec": {
   "display_name": "minigptv",
   "language": "python",
   "name": "python3"
  },
  "language_info": {
   "codemirror_mode": {
    "name": "ipython",
    "version": 3
   },
   "file_extension": ".py",
   "mimetype": "text/x-python",
   "name": "python",
   "nbconvert_exporter": "python",
   "pygments_lexer": "ipython3",
   "version": "3.9.19"
  }
 },
 "nbformat": 4,
 "nbformat_minor": 2
}
